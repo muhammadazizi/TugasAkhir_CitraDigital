{
 "cells": [
  {
   "cell_type": "code",
   "execution_count": 1,
   "metadata": {},
   "outputs": [],
   "source": [
    "import cv2\n",
    "import pandas as pd\n",
    "import numpy as np\n",
    "from sklearn.neighbors import KNeighborsClassifier\n",
    "from sklearn import neighbors\n",
    "from sklearn.neighbors import NearestNeighbors\n",
    "from sklearn.neighbors import KNeighborsRegressor"
   ]
  },
  {
   "cell_type": "code",
   "execution_count": 2,
   "metadata": {},
   "outputs": [],
   "source": [
    "original = cv2. imread('asli.jpg')"
   ]
  },
  {
   "cell_type": "code",
   "execution_count": 3,
   "metadata": {},
   "outputs": [],
   "source": [
    "h, w = original.shape[:2]\n",
    "new_h, new_w= int(h/2), int(w/2)\n",
    "image= cv2.resize(original,(new_w, new_h))"
   ]
  },
  {
   "cell_type": "code",
   "execution_count": 4,
   "metadata": {},
   "outputs": [],
   "source": [
    "hsv= cv2.cvtColor(image, cv2.COLOR_RGB2HSV)"
   ]
  },
  {
   "cell_type": "code",
   "execution_count": 5,
   "metadata": {},
   "outputs": [
    {
     "name": "stdout",
     "output_type": "stream",
     "text": [
      "[[[0 0 1]\n",
      "  [0 0 1]\n",
      "  [0 0 1]\n",
      "  ...\n",
      "  [0 0 1]\n",
      "  [0 0 1]\n",
      "  [0 0 1]]\n",
      "\n",
      " [[0 0 1]\n",
      "  [0 0 1]\n",
      "  [0 0 1]\n",
      "  ...\n",
      "  [0 0 1]\n",
      "  [0 0 1]\n",
      "  [0 0 1]]\n",
      "\n",
      " [[0 0 1]\n",
      "  [0 0 1]\n",
      "  [0 0 1]\n",
      "  ...\n",
      "  [0 0 1]\n",
      "  [0 0 1]\n",
      "  [0 0 1]]\n",
      "\n",
      " ...\n",
      "\n",
      " [[0 0 1]\n",
      "  [0 0 1]\n",
      "  [0 0 1]\n",
      "  ...\n",
      "  [0 0 1]\n",
      "  [0 0 1]\n",
      "  [0 0 1]]\n",
      "\n",
      " [[0 0 1]\n",
      "  [0 0 1]\n",
      "  [0 0 1]\n",
      "  ...\n",
      "  [0 0 1]\n",
      "  [0 0 1]\n",
      "  [0 0 1]]\n",
      "\n",
      " [[0 0 1]\n",
      "  [0 0 1]\n",
      "  [0 0 1]\n",
      "  ...\n",
      "  [0 0 1]\n",
      "  [0 0 1]\n",
      "  [0 0 1]]]\n"
     ]
    }
   ],
   "source": [
    "print(hsv)"
   ]
  },
  {
   "cell_type": "code",
   "execution_count": 6,
   "metadata": {},
   "outputs": [],
   "source": [
    "cv2.imshow('Gambar HSV', hsv)"
   ]
  },
  {
   "cell_type": "code",
   "execution_count": 7,
   "metadata": {},
   "outputs": [],
   "source": [
    "cv2.imshow('H Channel', hsv[: ,: ,0])\n",
    "cv2.imshow('S Channel', hsv[: ,: ,1])\n",
    "cv2.imshow('V Channel', hsv[: ,: ,2])\n",
    "cv2.waitKey(0)\n",
    "cv2.destroyAllWindows()"
   ]
  },
  {
   "cell_type": "code",
   "execution_count": 8,
   "metadata": {},
   "outputs": [
    {
     "name": "stdout",
     "output_type": "stream",
     "text": [
      "Nilai Rata-rata H : 31.059151785714285 S:  59.464285714285715 V:  27.163345025510203\n"
     ]
    }
   ],
   "source": [
    "H = hsv[: ,: ,0]\n",
    "S = hsv[: ,: ,1]\n",
    "V = hsv[: ,: ,2]\n",
    "meanH = np.mean(H)\n",
    "meanH = float(meanH)\n",
    "meanS = np.mean(S)\n",
    "meanS = float(meanS)\n",
    "meanV = np.mean(V)\n",
    "meanV = float(meanV)\n",
    "print(\"Nilai Rata-rata H :\", meanH,\"S: \", meanS,\"V: \",meanV)"
   ]
  },
  {
   "cell_type": "code",
   "execution_count": 9,
   "metadata": {},
   "outputs": [],
   "source": [
    "data=pd.read_csv('databeras.csv')"
   ]
  },
  {
   "cell_type": "code",
   "execution_count": 10,
   "metadata": {},
   "outputs": [
    {
     "name": "stdout",
     "output_type": "stream",
     "text": [
      "Hasil Prediksi = 1.0\n",
      "Beras ini Bagus\n"
     ]
    }
   ],
   "source": [
    "X = data[['H','S','V']]\n",
    "Y = data['Kualitas']\n",
    "knn = KNeighborsRegressor(n_neighbors=3)\n",
    "knn.fit(X,Y)\n",
    "dataa = [meanH,meanS,meanV]\n",
    "hasilprediksi = knn.predict([dataa])\n",
    "hasilprediksi = float(hasilprediksi)\n",
    "print(\"Hasil Prediksi =\",hasilprediksi)\n",
    "if hasilprediksi == 1:\n",
    "    print(\"Beras ini Bagus\")\n",
    "elif hasilprediksi == 0:\n",
    "    print(\"Beras ini Tidak Bagus\")\n",
    "else:\n",
    "    print(\"Kualitas Beras Tidak Di Prediksi\")"
   ]
  },
  {
   "cell_type": "code",
   "execution_count": null,
   "metadata": {},
   "outputs": [],
   "source": []
  },
  {
   "cell_type": "code",
   "execution_count": null,
   "metadata": {},
   "outputs": [],
   "source": []
  }
 ],
 "metadata": {
  "kernelspec": {
   "display_name": "Python 3",
   "language": "python",
   "name": "python3"
  },
  "language_info": {
   "codemirror_mode": {
    "name": "ipython",
    "version": 3
   },
   "file_extension": ".py",
   "mimetype": "text/x-python",
   "name": "python",
   "nbconvert_exporter": "python",
   "pygments_lexer": "ipython3",
   "version": "3.8.5"
  }
 },
 "nbformat": 4,
 "nbformat_minor": 4
}
